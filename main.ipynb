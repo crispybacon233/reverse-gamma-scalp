{
 "cells": [
  {
   "cell_type": "code",
   "execution_count": 1,
   "metadata": {},
   "outputs": [],
   "source": [
    "from config import *"
   ]
  },
  {
   "cell_type": "code",
   "execution_count": 2,
   "metadata": {},
   "outputs": [],
   "source": [
    "# underlying stock ticker symbol\n",
    "ticker = 'SPY'\n",
    "\n",
    "# expiration date of desired option\n",
    "exp_date = 'placeholder'\n",
    "\n",
    "# strike price of desired option\n",
    "strike_price = 555"
   ]
  },
  {
   "cell_type": "code",
   "execution_count": null,
   "metadata": {},
   "outputs": [],
   "source": [
    "# Define TDAmeritrade Endpoint and Payload\n",
    "tda_endpoint = 'https://api.tdameritrade.com/v1/marketdata/chains'\n",
    "tda_payload = {'apikey': TDA_ID,\n",
    "               'symbol': ticker,\n",
    "               'contractType': 'CALL',\n",
    "               'includeQuotes': 'TRUE',\n",
    "               'strategy': 'SINGLE',\n",
    "               'expMonth': 'ALL',\n",
    "               \"isDelayed\": 'true'}\n",
    "\n",
    "# define alpaca endpoint and url\n",
    "HEADERS = {'APCA-API-KEY-ID': ALPACA_KEY_ID, 'APCA-API-SECRET-KEY': ALPACA_SECRET_KEY}\n",
    "alpaca_endpoint = 'https://paper-api.alpaca.markets'\n",
    "account_url = '{}/v2/account'.format(alpaca_endpoint)\n",
    "orders_url = '{}/v2/orders'.format(alpaca_endpoint)\n",
    "positions_url = '{}/v2/positions'.format(alpaca_endpoint)\n",
    "portfolio_url = '{}/v2/account/portfolio/history'.format(alpaca_endpoint)"
   ]
  }
 ],
 "metadata": {
  "kernelspec": {
   "display_name": "gamma-scalp",
   "language": "python",
   "name": "python3"
  },
  "language_info": {
   "codemirror_mode": {
    "name": "ipython",
    "version": 3
   },
   "file_extension": ".py",
   "mimetype": "text/x-python",
   "name": "python",
   "nbconvert_exporter": "python",
   "pygments_lexer": "ipython3",
   "version": "3.10.8"
  },
  "orig_nbformat": 4,
  "vscode": {
   "interpreter": {
    "hash": "da734df9c961dfa51bc91c212b39d9e39e2fcc709e41e2cecd420f0ad66fde40"
   }
  }
 },
 "nbformat": 4,
 "nbformat_minor": 2
}
