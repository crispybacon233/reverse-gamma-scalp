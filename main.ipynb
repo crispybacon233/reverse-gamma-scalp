{
 "cells": [
  {
   "cell_type": "code",
   "execution_count": null,
   "metadata": {},
   "outputs": [],
   "source": [
    "from config import *\n",
    "import pandas as pd\n",
    "import requests\n",
    "import json\n",
    "import urllib\n",
    "import dateutil.parser\n",
    "import time\n",
    "from datetime import datetime"
   ]
  },
  {
   "cell_type": "code",
   "execution_count": null,
   "metadata": {},
   "outputs": [],
   "source": [
    "# underlying stock ticker symbol\n",
    "ticker = 'SPY'\n",
    "\n",
    "# expiration date of desired option where last number '7' is the days until expiration\n",
    "exp_date = '2023-01-20:7'\n",
    "\n",
    "# strike price of desired option in str\n",
    "strike_price = '395.0'\n",
    "\n",
    "# sets the desired net delta. net delta = number of share + option delta\n",
    "target_net_delta = -2.0\n",
    "\n",
    "\n",
    "# sets time interval (in seconds) for bot to check position and make adjustments in seconds\n",
    "time_interval = 10"
   ]
  },
  {
   "cell_type": "code",
   "execution_count": null,
   "metadata": {},
   "outputs": [],
   "source": [
    "# Define TDAmeritrade Endpoint and Payload\n",
    "tda_endpoint = 'https://api.tdameritrade.com/v1/marketdata/chains'\n",
    "tda_payload = {'apikey': TDA_ID,\n",
    "               'symbol': ticker,\n",
    "               'contractType': 'CALL',\n",
    "               'includeQuotes': 'TRUE',\n",
    "               'strategy': 'SINGLE',\n",
    "               'expMonth': 'ALL',\n",
    "               \"isDelayed\": 'true'}\n",
    "\n",
    "# define alpaca endpoint and url\n",
    "HEADERS = {'APCA-API-KEY-ID': ALPACA_KEY_ID, 'APCA-API-SECRET-KEY': ALPACA_SECRET_KEY}\n",
    "alpaca_endpoint = 'https://paper-api.alpaca.markets'\n",
    "account_url = '{}/v2/account'.format(alpaca_endpoint)\n",
    "orders_url = '{}/v2/orders'.format(alpaca_endpoint)\n",
    "positions_url = '{}/v2/positions'.format(alpaca_endpoint)\n",
    "portfolio_url = '{}/v2/account/portfolio/history'.format(alpaca_endpoint)"
   ]
  },
  {
   "cell_type": "code",
   "execution_count": 1,
   "metadata": {},
   "outputs": [],
   "source": [
    "# this function will get the profit/loss on the stock position in alpaca\n",
    "def get_pnl():\n",
    "    data = {\n",
    "        'period': '1D',\n",
    "        'timeframe': '1D'\n",
    "    }\n",
    "    r = requests.get(portfolio_url, headers=HEADERS)\n",
    "    return json.loads(r.content)\n",
    "\n",
    "\n",
    "# returns the number of shares currently open\n",
    "def num_of_shares(ticker):\n",
    "    r = requests.get(positions_url + '/{}'.format(ticker), headers=HEADERS)\n",
    "    return json.loads(r.content)\n",
    "\n",
    "\n",
    "# puts in an order to buy/sell shares. side='buy' or 'sell'\n",
    "def create_order(ticker, qty, side): \n",
    "    data = {\n",
    "        'symbol': ticker,\n",
    "        'qty': qty,\n",
    "        'side': side,\n",
    "        'type': 'market',\n",
    "        'time_in_force': 'day'\n",
    "    }\n",
    "    r = requests.post(orders_url, json=data, headers=HEADERS)\n",
    "    \n",
    "\n",
    "# returns the delta of the short call\n",
    "def get_call_delta(tda_data, exp_date, strike_price):\n",
    "    return tda_data['callExpDateMap'][exp_date][strike_price][0]['delta'] * -100\n",
    "\n",
    "\n",
    "# closes all alpaca positions\n",
    "def close_all_positions():\n",
    "    r = requests.delete(positions_url, headers=HEADERS)"
   ]
  },
  {
   "cell_type": "code",
   "execution_count": null,
   "metadata": {},
   "outputs": [],
   "source": [
    "# this returns how much you sold the option for in nominal dollars\n",
    "r = requests.get(url=tda_endpoint, params=tda_payload)\n",
    "tda_data = json.loads(r.content)\n",
    "option_sell_price = tda_data['callExpDateMap'][exp_date][strike_price][0]['bid'] * 100"
   ]
  },
  {
   "cell_type": "code",
   "execution_count": null,
   "metadata": {
    "scrolled": false
   },
   "outputs": [],
   "source": [
    "while (datetime.now().hour * 60 + datetime.now().minute) < 897: # bot keeps running until 3 minutes before market close, local time\n",
    "    # gets the number of shares currently open \n",
    "    try:\n",
    "        stock_delta = float(num_of_shares(ticker)['qty'])\n",
    "    except:\n",
    "        stock_delta = 0\n",
    "    \n",
    "    # gets the option delta and net_delta\n",
    "    try:\n",
    "        short_call_delta = get_call_delta(tda_data, exp_date, strike_price)\n",
    "        current_net_delta = round(stock_delta + short_call_delta, 0)\n",
    "        if current_net_delta < target_net_delta:\n",
    "            create_order(ticker, (target_net_delta - current_net_delta), 'buy')\n",
    "        elif current_net_delta > target_net_delta:\n",
    "            create_order(ticker, (current_net_delta - target_net_delta), 'sell')\n",
    "    except:\n",
    "        print('error')\n",
    "    \n",
    "    print('open shares: ', stock_delta)\n",
    "    print('option delta: ', short_call_delta)\n",
    "    print('net delta: ', current_net_delta)\n",
    "    print('option profit/loss: ', option_sell_price - (tda_data['callExpDateMap'][exp_date][strike_price][0]['ask'] * 100))\n",
    "    print('stock profit/loss: ', get_pnl()['profit_loss'][-1])\n",
    "    print(datetime.now(), '\\n')\n",
    "    print()\n",
    "    \n",
    "    time.sleep(time_interval) \n",
    "\n",
    "# after market closes, all alpaca positions will be closed\n",
    "close_all_positions()"
   ]
  },
  {
   "cell_type": "code",
   "execution_count": null,
   "metadata": {},
   "outputs": [],
   "source": []
  }
 ],
 "metadata": {
  "kernelspec": {
   "display_name": "Python 3 (ipykernel)",
   "language": "python",
   "name": "python3"
  },
  "language_info": {
   "codemirror_mode": {
    "name": "ipython",
    "version": 3
   },
   "file_extension": ".py",
   "mimetype": "text/x-python",
   "name": "python",
   "nbconvert_exporter": "python",
   "pygments_lexer": "ipython3",
   "version": "3.9.13"
  },
  "vscode": {
   "interpreter": {
    "hash": "da734df9c961dfa51bc91c212b39d9e39e2fcc709e41e2cecd420f0ad66fde40"
   }
  }
 },
 "nbformat": 4,
 "nbformat_minor": 2
}
