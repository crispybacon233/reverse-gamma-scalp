{
 "cells": [
  {
   "cell_type": "code",
   "execution_count": 1,
   "metadata": {},
   "outputs": [],
   "source": [
    "from config import *\n",
    "import pandas as pd\n",
    "import requests\n",
    "import json\n",
    "import urllib\n",
    "import dateutil.parser\n",
    "import time\n",
    "from datetime import datetime"
   ]
  },
  {
   "cell_type": "code",
   "execution_count": 34,
   "metadata": {},
   "outputs": [],
   "source": [
    "# underlying stock ticker symbol\n",
    "ticker = 'SPY'\n",
    "\n",
    "# expiration date of desired option where last number '7' is the days until expiration\n",
    "exp_date = '2023-01-20:7'\n",
    "\n",
    "# strike price of desired option in str\n",
    "strike_price = '395.0'"
   ]
  },
  {
   "cell_type": "code",
   "execution_count": 29,
   "metadata": {},
   "outputs": [],
   "source": [
    "# Define TDAmeritrade Endpoint and Payload\n",
    "tda_endpoint = 'https://api.tdameritrade.com/v1/marketdata/chains'\n",
    "tda_payload = {'apikey': TDA_ID,\n",
    "               'symbol': ticker,\n",
    "               'contractType': 'CALL',\n",
    "               'includeQuotes': 'TRUE',\n",
    "               'strategy': 'SINGLE',\n",
    "               'expMonth': 'ALL',\n",
    "               \"isDelayed\": 'true'}\n",
    "\n",
    "# define alpaca endpoint and url\n",
    "HEADERS = {'APCA-API-KEY-ID': ALPACA_KEY_ID, 'APCA-API-SECRET-KEY': ALPACA_SECRET_KEY}\n",
    "alpaca_endpoint = 'https://paper-api.alpaca.markets'\n",
    "account_url = '{}/v2/account'.format(alpaca_endpoint)\n",
    "orders_url = '{}/v2/orders'.format(alpaca_endpoint)\n",
    "positions_url = '{}/v2/positions'.format(alpaca_endpoint)\n",
    "portfolio_url = '{}/v2/account/portfolio/history'.format(alpaca_endpoint)"
   ]
  },
  {
   "cell_type": "code",
   "execution_count": 30,
   "metadata": {},
   "outputs": [],
   "source": [
    "# this function will get the profit/loss on the stock position in alpaca\n",
    "def get_pnl():\n",
    "    data = {\n",
    "        'period': '1D',\n",
    "        'timeframe': '1D'\n",
    "    }\n",
    "    r = requests.get(portfolio_url, headers=HEADERS)\n",
    "    return json.loads(r.content)\n"
   ]
  },
  {
   "cell_type": "code",
   "execution_count": 35,
   "metadata": {},
   "outputs": [],
   "source": [
    "# this returns how much you sold the option for in nominal dollars\n",
    "r = requests.get(url=tda_endpoint, params=tda_payload)\n",
    "tda_data = json.loads(r.content)\n",
    "option_sell_price = tda_data['callExpDateMap'][exp_date][strike_price][0]['bid'] * 100\n",
    "\n",
    "pnl_list = []"
   ]
  },
  {
   "cell_type": "code",
   "execution_count": 27,
   "metadata": {
    "scrolled": true
   },
   "outputs": [
    {
     "name": "stdout",
     "output_type": "stream",
     "text": [
      "111\n"
     ]
    }
   ],
   "source": [
    "# get the profit/loss for the stock position on alpaca\n",
    "alpaca_pnl = get_pnl()['profit_loss'][-1]\n",
    "print(alpaca_pnl)"
   ]
  },
  {
   "cell_type": "code",
   "execution_count": 37,
   "metadata": {},
   "outputs": [
    {
     "data": {
      "text/plain": [
       "-58.9"
      ]
     },
     "execution_count": 37,
     "metadata": {},
     "output_type": "execute_result"
    }
   ],
   "source": [
    "tda_data['callExpDateMap'][exp_date][strike_price][0]['delta'] * -100"
   ]
  }
 ],
 "metadata": {
  "kernelspec": {
   "display_name": "Python 3 (ipykernel)",
   "language": "python",
   "name": "python3"
  },
  "language_info": {
   "codemirror_mode": {
    "name": "ipython",
    "version": 3
   },
   "file_extension": ".py",
   "mimetype": "text/x-python",
   "name": "python",
   "nbconvert_exporter": "python",
   "pygments_lexer": "ipython3",
   "version": "3.9.13"
  },
  "vscode": {
   "interpreter": {
    "hash": "da734df9c961dfa51bc91c212b39d9e39e2fcc709e41e2cecd420f0ad66fde40"
   }
  }
 },
 "nbformat": 4,
 "nbformat_minor": 2
}
